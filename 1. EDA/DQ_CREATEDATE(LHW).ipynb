{
 "cells": [
  {
   "cell_type": "code",
   "execution_count": 2,
   "metadata": {},
   "outputs": [],
   "source": [
    "import numpy as np \n",
    "import pandas as pd \n",
    "import matplotlib.pyplot as plt \n",
    "import seaborn as sns \n",
    "import sklearn \n",
    "\n",
    "plt.rcParams['font.family'] ='D2Coding'"
   ]
  },
  {
   "cell_type": "code",
   "execution_count": 8,
   "metadata": {},
   "outputs": [],
   "source": [
    "events = pd.read_csv('events.csv')\n",
    "order_items = pd.read_csv('order_items.csv')\n",
    "\n",
    "events = events[events['event_type'] == 'product']\n",
    "events['product_id'] = events['uri'].str.extract('(\\d+)')\n",
    "\n",
    "# 'user_id'와 'product_id'를 기준으로 -> 두 df를 각각 그룹화하고 -> 각 그룹의 'created_at'의 최소값 찾기\n",
    "events_new = events.groupby(['user_id', 'product_id'])['created_at'].idxmin()\n",
    "order_items_new = order_items.groupby(['user_id', 'product_id'])['created_at'].idxmin()"
   ]
  },
  {
   "cell_type": "code",
   "execution_count": 9,
   "metadata": {},
   "outputs": [
    {
     "data": {
      "text/plain": [
       "user_id  product_id\n",
       "1.0      2953          1731193\n",
       "         4731           763416\n",
       "         7656           663897\n",
       "2.0      25774         2422321\n",
       "3.0      18177          439244\n",
       "Name: created_at, dtype: int64"
      ]
     },
     "execution_count": 9,
     "metadata": {},
     "output_type": "execute_result"
    }
   ],
   "source": [
    "events_new.head()"
   ]
  },
  {
   "cell_type": "code",
   "execution_count": 16,
   "metadata": {},
   "outputs": [
    {
     "data": {
      "text/html": [
       "<div>\n",
       "<style scoped>\n",
       "    .dataframe tbody tr th:only-of-type {\n",
       "        vertical-align: middle;\n",
       "    }\n",
       "\n",
       "    .dataframe tbody tr th {\n",
       "        vertical-align: top;\n",
       "    }\n",
       "\n",
       "    .dataframe thead th {\n",
       "        text-align: right;\n",
       "    }\n",
       "</style>\n",
       "<table border=\"1\" class=\"dataframe\">\n",
       "  <thead>\n",
       "    <tr style=\"text-align: right;\">\n",
       "      <th></th>\n",
       "      <th>id</th>\n",
       "      <th>user_id</th>\n",
       "      <th>sequence_number</th>\n",
       "      <th>session_id</th>\n",
       "      <th>created_at</th>\n",
       "      <th>ip_address</th>\n",
       "      <th>city</th>\n",
       "      <th>state</th>\n",
       "      <th>postal_code</th>\n",
       "      <th>browser</th>\n",
       "      <th>...</th>\n",
       "      <th>order_id</th>\n",
       "      <th>user_id</th>\n",
       "      <th>product_id</th>\n",
       "      <th>inventory_item_id</th>\n",
       "      <th>status</th>\n",
       "      <th>created_at</th>\n",
       "      <th>shipped_at</th>\n",
       "      <th>delivered_at</th>\n",
       "      <th>returned_at</th>\n",
       "      <th>sale_price</th>\n",
       "    </tr>\n",
       "  </thead>\n",
       "  <tbody>\n",
       "    <tr>\n",
       "      <th>1931667</th>\n",
       "      <td>312049.0</td>\n",
       "      <td>23839.0</td>\n",
       "      <td>2.0</td>\n",
       "      <td>a88ed212-68c7-4732-b4fc-5e1311d2b945</td>\n",
       "      <td>2019-01-06 02:16:53+00:00</td>\n",
       "      <td>136.198.160.147</td>\n",
       "      <td>São Luís</td>\n",
       "      <td>Maranhão</td>\n",
       "      <td>65052-050</td>\n",
       "      <td>Firefox</td>\n",
       "      <td>...</td>\n",
       "      <td>NaN</td>\n",
       "      <td>NaN</td>\n",
       "      <td>NaN</td>\n",
       "      <td>NaN</td>\n",
       "      <td>NaN</td>\n",
       "      <td>NaN</td>\n",
       "      <td>NaN</td>\n",
       "      <td>NaN</td>\n",
       "      <td>NaN</td>\n",
       "      <td>NaN</td>\n",
       "    </tr>\n",
       "    <tr>\n",
       "      <th>22700</th>\n",
       "      <td>NaN</td>\n",
       "      <td>NaN</td>\n",
       "      <td>NaN</td>\n",
       "      <td>NaN</td>\n",
       "      <td>NaN</td>\n",
       "      <td>NaN</td>\n",
       "      <td>NaN</td>\n",
       "      <td>NaN</td>\n",
       "      <td>NaN</td>\n",
       "      <td>NaN</td>\n",
       "      <td>...</td>\n",
       "      <td>29835.0</td>\n",
       "      <td>23839.0</td>\n",
       "      <td>12305.0</td>\n",
       "      <td>116952.0</td>\n",
       "      <td>Shipped</td>\n",
       "      <td>2019-01-06 02:25:41+00:00</td>\n",
       "      <td>2019-01-09 04:36:00+00:00</td>\n",
       "      <td>NaN</td>\n",
       "      <td>NaN</td>\n",
       "      <td>15.0</td>\n",
       "    </tr>\n",
       "  </tbody>\n",
       "</table>\n",
       "<p>2 rows × 25 columns</p>\n",
       "</div>"
      ],
      "text/plain": [
       "               id  user_id  sequence_number  \\\n",
       "1931667  312049.0  23839.0              2.0   \n",
       "22700         NaN      NaN              NaN   \n",
       "\n",
       "                                   session_id                 created_at  \\\n",
       "1931667  a88ed212-68c7-4732-b4fc-5e1311d2b945  2019-01-06 02:16:53+00:00   \n",
       "22700                                     NaN                        NaN   \n",
       "\n",
       "              ip_address      city     state postal_code  browser  ...  \\\n",
       "1931667  136.198.160.147  São Luís  Maranhão   65052-050  Firefox  ...   \n",
       "22700                NaN       NaN       NaN         NaN      NaN  ...   \n",
       "\n",
       "        order_id  user_id product_id inventory_item_id   status  \\\n",
       "1931667      NaN      NaN        NaN               NaN      NaN   \n",
       "22700    29835.0  23839.0    12305.0          116952.0  Shipped   \n",
       "\n",
       "                        created_at                 shipped_at  delivered_at  \\\n",
       "1931667                        NaN                        NaN           NaN   \n",
       "22700    2019-01-06 02:25:41+00:00  2019-01-09 04:36:00+00:00           NaN   \n",
       "\n",
       "         returned_at sale_price  \n",
       "1931667          NaN        NaN  \n",
       "22700            NaN       15.0  \n",
       "\n",
       "[2 rows x 25 columns]"
      ]
     },
     "execution_count": 16,
     "metadata": {},
     "output_type": "execute_result"
    }
   ],
   "source": [
    "# 각 데이터프레임의, 각 그룹에서, 가장 작은 created_at이, 전체 데이터프레임에서의 최소값과, 일치하는 행만 선택\n",
    "events_fin = events.loc[events['created_at'] == events.loc[events_new, 'created_at'].min()]\n",
    "order_items_fin = order_items.loc[order_items['created_at'] == order_items.loc[order_items_new, 'created_at'].min()]\n",
    "\n",
    "# 두 데이터프레임을 열 방향으로 결합\n",
    "fin_df = pd.concat([events_fin, order_items_fin], axis=1)\n",
    "fin_df"
   ]
  }
 ],
 "metadata": {
  "kernelspec": {
   "display_name": "Python 3",
   "language": "python",
   "name": "python3"
  },
  "language_info": {
   "codemirror_mode": {
    "name": "ipython",
    "version": 3
   },
   "file_extension": ".py",
   "mimetype": "text/x-python",
   "name": "python",
   "nbconvert_exporter": "python",
   "pygments_lexer": "ipython3",
   "version": "3.11.8"
  }
 },
 "nbformat": 4,
 "nbformat_minor": 2
}
